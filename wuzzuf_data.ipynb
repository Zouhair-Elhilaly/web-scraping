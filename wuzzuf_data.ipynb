{
 "cells": [
  {
   "cell_type": "code",
   "execution_count": 57,
   "id": "1efbf63a-0e8e-4a7b-8c84-84066373c275",
   "metadata": {},
   "outputs": [],
   "source": [
    "import requests\n",
    "from bs4 import BeautifulSoup\n",
    "import csv \n",
    "from itertools import zip_longest\n"
   ]
  },
  {
   "cell_type": "code",
   "execution_count": 58,
   "id": "3af04f7d-bd6c-46e8-8cc5-3bcb09c3c537",
   "metadata": {},
   "outputs": [
    {
     "name": "stdin",
     "output_type": "stream",
     "text": [
      "Enter your job search ?  laravel\n"
     ]
    }
   ],
   "source": [
    "res = input(\"Enter your job search ? \")\n",
    "result = requests.get(f\"https://wuzzuf.net/search/jobs?q={res}\")"
   ]
  },
  {
   "cell_type": "code",
   "execution_count": 59,
   "id": "ddc7d351-6276-49a1-9856-c2de506fff8c",
   "metadata": {},
   "outputs": [],
   "source": [
    "data = result.content"
   ]
  },
  {
   "cell_type": "code",
   "execution_count": null,
   "id": "296bc1c3-7f24-41bb-b8b8-8ce0d6e51c8b",
   "metadata": {},
   "outputs": [],
   "source": []
  },
  {
   "cell_type": "code",
   "execution_count": 60,
   "id": "b4e56c4c-328e-433f-9606-b04feb941674",
   "metadata": {},
   "outputs": [],
   "source": [
    "soup = BeautifulSoup(data ,'lxml')\n"
   ]
  },
  {
   "cell_type": "code",
   "execution_count": 61,
   "id": "1f7f0693-3d5b-4719-b74f-07d6a21ed4af",
   "metadata": {},
   "outputs": [],
   "source": [
    "baliz = soup.find_all('div', {'class': 'css-pkv5jc'})\n"
   ]
  },
  {
   "cell_type": "code",
   "execution_count": 62,
   "id": "97a9c3f9-1f49-4923-8a94-86fa8084d3f0",
   "metadata": {},
   "outputs": [
    {
     "data": {
      "text/plain": [
       "['Laravel Developer',\n",
       " 'Backend Developer - PHP & Laravel',\n",
       " 'Full Stack PHP Laravel Developer',\n",
       " 'Full Stack Laravel Team Leader',\n",
       " 'Backend Developer (PHP & Laravel)',\n",
       " 'Back End Developer - Laravel',\n",
       " 'Senior PHP Developer (Laravel)',\n",
       " 'Senior Full Stack PHP Developer (Laravel / SaaS Platform)',\n",
       " 'Laravel PHP Developer',\n",
       " 'Full Stack Developer (PHP Laravel)',\n",
       " 'Senior Laravel + Vue.js Engineer',\n",
       " 'Senior Laravel PHP Developer',\n",
       " 'Senior PHP Developer (laravel)',\n",
       " 'Senior Laravel PHP Developer',\n",
       " 'Senior Laravel Developer']"
      ]
     },
     "execution_count": 62,
     "metadata": {},
     "output_type": "execute_result"
    }
   ],
   "source": [
    "titleJob = []\n",
    "for i in range(len(baliz)):\n",
    "    titleJob.append(baliz[i].find('a' , class_=\"css-o171kl\").text)\n",
    "titleJob"
   ]
  },
  {
   "cell_type": "code",
   "execution_count": 63,
   "id": "eaef4889-a0a3-4501-90a1-c013925b9a08",
   "metadata": {},
   "outputs": [],
   "source": [
    "PlaceAndDay = []\n",
    "for i in range(len(baliz)):\n",
    "    PlaceAndDay.append(baliz[i].find('div' , class_=\"css-1k5ee52\"))\n"
   ]
  },
  {
   "cell_type": "code",
   "execution_count": 64,
   "id": "567d46c1-f73c-4002-97eb-4a0e4df85e40",
   "metadata": {},
   "outputs": [
    {
     "data": {
      "text/plain": [
       "['GhanemTech -Nasr City, Cairo, Egypt ',\n",
       " 'Softxpert Incorporation  -Bolkly, Alexandria, Egypt ',\n",
       " 'Namaa IT -New Cairo, Cairo, Egypt ',\n",
       " 'Ayed Academy -Mansoura, Dakahlia, Egypt ',\n",
       " 'Afaqy -Maadi, Cairo, Egypt ',\n",
       " 'Stryve  -New Cairo, Cairo, Egypt ',\n",
       " 'Our Education -Nasr City, Cairo, Egypt ',\n",
       " 'Smartly -Nasr City, Cairo, Egypt ',\n",
       " 'Confidential -Dokki, Giza, Egypt ',\n",
       " 'Confidential -Hadayek Alahram, Giza, Egypt ',\n",
       " 'EL KHETA -San Stefano, Alexandria, Egypt ',\n",
       " 'Zad aljoud  -Riyadh, Saudi Arabia ',\n",
       " 'DotsHub  -New Cairo, Cairo, Egypt ',\n",
       " 'Confidential -Dokki, Giza, Egypt ',\n",
       " '34ML -Heliopolis, Cairo, Egypt ']"
      ]
     },
     "execution_count": 64,
     "metadata": {},
     "output_type": "execute_result"
    }
   ],
   "source": [
    "placeJob = []\n",
    "typeJob = []\n",
    "\n",
    "time = []\n",
    "for i in range(len(PlaceAndDay)):\n",
    "    a = PlaceAndDay[i].find('a' , class_=\"css-ipsyv7\").text\n",
    "    b = PlaceAndDay[i].find('span' , class_=\"css-16x61xq\").text\n",
    "    time.append( PlaceAndDay[i].find('div' , class_=\"css-eg55jf\")) \n",
    "    c = a + b\n",
    "    placeJob.append(c)\n",
    "    \n",
    "\n",
    "for i in baliz:\n",
    "    type1 = i.find('a' , class_=\"css-a85cz4\").text\n",
    "    type2 = i.find('span' , class_=\"css-uofntu eoyjyou0\").text\n",
    "    typeJob.append([type1,type2])\n",
    "typeJob\n",
    "placeJob"
   ]
  },
  {
   "cell_type": "code",
   "execution_count": 65,
   "id": "c4ad5610-ccb3-4c69-ae45-4668d1e79249",
   "metadata": {},
   "outputs": [
    {
     "data": {
      "text/plain": [
       "['Laravel Developer',\n",
       " 'Backend Developer - PHP & Laravel',\n",
       " 'Full Stack PHP Laravel Developer',\n",
       " 'Full Stack Laravel Team Leader',\n",
       " 'Backend Developer (PHP & Laravel)',\n",
       " 'Back End Developer - Laravel',\n",
       " 'Senior PHP Developer (Laravel)',\n",
       " 'Senior Full Stack PHP Developer (Laravel / SaaS Platform)',\n",
       " 'Laravel PHP Developer',\n",
       " 'Full Stack Developer (PHP Laravel)',\n",
       " 'Senior Laravel + Vue.js Engineer',\n",
       " 'Senior Laravel PHP Developer',\n",
       " 'Senior PHP Developer (laravel)',\n",
       " 'Senior Laravel PHP Developer',\n",
       " 'Senior Laravel Developer']"
      ]
     },
     "execution_count": 65,
     "metadata": {},
     "output_type": "execute_result"
    }
   ],
   "source": [
    "experience = []\n",
    "for i in baliz:\n",
    "    experience.append(i.find('a' , class_=\"css-o171kl\").text)\n",
    "experience    "
   ]
  },
  {
   "cell_type": "code",
   "execution_count": 66,
   "id": "15345491-2d8f-4081-ac84-b9f27c531329",
   "metadata": {},
   "outputs": [
    {
     "data": {
      "text/plain": [
       "['Experienced',\n",
       " 'Experienced',\n",
       " 'Experienced',\n",
       " 'Manager',\n",
       " 'Experienced',\n",
       " 'Experienced',\n",
       " 'Experienced',\n",
       " 'Experienced',\n",
       " 'Experienced',\n",
       " 'Experienced',\n",
       " 'Experienced',\n",
       " 'Experienced',\n",
       " 'Entry Level',\n",
       " 'Experienced',\n",
       " 'Experienced']"
      ]
     },
     "execution_count": 66,
     "metadata": {},
     "output_type": "execute_result"
    }
   ],
   "source": [
    "div1 = []\n",
    "footer = []\n",
    "text = []\n",
    "for i in baliz:\n",
    "    div1.append(i.find('div' , class_=\"css-5jhz9n\"))\n",
    "\n",
    "\n",
    "\n",
    "for i in range(len(baliz)):\n",
    "    div_i = div1[i]\n",
    "    tag_experience = div_i.find_next_sibling(\"div\")\n",
    "\n",
    "    \n",
    "    tag_a = tag_experience.find_all('a')\n",
    "    expMin = []\n",
    "    for i, tag_a in enumerate(tag_a, start=1):\n",
    "         expMin.append(tag_a.text)  \n",
    "    footer.append(expMin)\n",
    "\n",
    "\n",
    "        \n",
    "titleJobsecond = []\n",
    "expFinal  = []\n",
    "for i in range(len(footer)):\n",
    "    expFinal.append(footer[i][0])\n",
    "    titleJobsecond.append(footer[i][1])\n",
    "    text.append( \"\".join(footer[i][2:]))\n",
    "    \n",
    "# titleJobsecond\n",
    "# footer\n",
    "# text[0]\n",
    "expFinal"
   ]
  },
  {
   "cell_type": "code",
   "execution_count": 100,
   "id": "dd0835c1-f288-432a-9a27-8388429239de",
   "metadata": {},
   "outputs": [
    {
     "name": "stdin",
     "output_type": "stream",
     "text": [
      "Enter Your path for save data :  C:\\Users\\admin\\Downloads\\dataWazzaf\n"
     ]
    }
   ],
   "source": [
    "from datetime import datetime\n",
    "\n",
    "now = datetime.now()\n",
    "path = input(\"Enter Your path for save data : \")\n",
    "# now.strftime(\"%H:%M:%S\")\n",
    "# C:/Users/admin/Downloads/dataWazzaf"
   ]
  },
  {
   "cell_type": "code",
   "execution_count": 102,
   "id": "1b443c8d-6fd3-4c97-873e-bfb9fcc17294",
   "metadata": {},
   "outputs": [],
   "source": [
    "filename = f\"{path}/{now.strftime(\"%H-%M-%S\")}.csv\"\n",
    "with open(filename, 'w' , newline='', encoding='utf-8') as myfile: #kadir le alias\n",
    "    wr = csv.writer(myfile) \n",
    "    #kadir title dyalo \n",
    "    #writerow  => katktab row wa7da\n",
    "    wr.writerow(['Job Title', 'Type Job work', 'Company Location','Experience','Diploma', 'Skills'])\n",
    "\n",
    "    #zip_longest katjma3 man kol list value dyal index [1,2,3] ['a','b','c'] => [1 , a] [2 , b] [3 , c]\n",
    "    #writerows  katkhalik tktab  kolchi \n",
    "    wr.writerows(zip_longest(titleJob,typeJob,placeJob, expFinal,titleJobsecond ,text,fillvalue='')) #zip_longest katdir l3amal dyal zip o kat5alik t3amer lkhawali b fillvalue\n",
    "   "
   ]
  },
  {
   "cell_type": "code",
   "execution_count": null,
   "id": "ea8dfb65-58d6-4fed-a9ba-cca733640fa2",
   "metadata": {},
   "outputs": [],
   "source": []
  },
  {
   "cell_type": "code",
   "execution_count": null,
   "id": "7b0dec9a-5d9e-4f90-8a97-77a93cf62b2b",
   "metadata": {},
   "outputs": [],
   "source": []
  }
 ],
 "metadata": {
  "kernelspec": {
   "display_name": "Python 3 (ipykernel)",
   "language": "python",
   "name": "python3"
  },
  "language_info": {
   "codemirror_mode": {
    "name": "ipython",
    "version": 3
   },
   "file_extension": ".py",
   "mimetype": "text/x-python",
   "name": "python",
   "nbconvert_exporter": "python",
   "pygments_lexer": "ipython3",
   "version": "3.13.6"
  }
 },
 "nbformat": 4,
 "nbformat_minor": 5
}
